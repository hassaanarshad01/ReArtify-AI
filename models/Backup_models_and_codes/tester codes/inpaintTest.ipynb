{
 "cells": [
  {
   "cell_type": "code",
   "execution_count": 7,
   "id": "19d52a95-34a7-4933-8c5a-f9c8da158fa4",
   "metadata": {},
   "outputs": [
    {
     "data": {
      "application/vnd.jupyter.widget-view+json": {
       "model_id": "fa69276f281a4bbdb39cca5a9650d975",
       "version_major": 2,
       "version_minor": 0
      },
      "text/plain": [
       "Loading pipeline components...:   0%|          | 0/6 [00:00<?, ?it/s]"
      ]
     },
     "metadata": {},
     "output_type": "display_data"
    },
    {
     "data": {
      "application/vnd.jupyter.widget-view+json": {
       "model_id": "10fd5bd627ef46eab907a1e0f985831b",
       "version_major": 2,
       "version_minor": 0
      },
      "text/plain": [
       "  0%|          | 0/50 [00:00<?, ?it/s]"
      ]
     },
     "metadata": {},
     "output_type": "display_data"
    },
    {
     "name": "stdout",
     "output_type": "stream",
     "text": [
      "Inpainting and image grid saved successfully.\n"
     ]
    }
   ],
   "source": [
    "# Import the StableDiffusionInpainting class from InpaintingModel.py\n",
    "from InpaintingModel import StableDiffusionInpainting\n",
    "from PIL import Image\n",
    "\n",
    "# Instantiate the StableDiffusionInpainting class\n",
    "inpainting = StableDiffusionInpainting()\n",
    "\n",
    "# Path to the damaged image\n",
    "init_image_path = \"Images/Input/Damaged/17.jpg\"\n",
    "prompt = \"seashore\"\n",
    "\n",
    "# Test inpaint_image function\n",
    "inpainted_image = inpainting.inpaint_image_with_path(init_image_path, prompt)\n",
    "\n",
    "# Load the input image again to include in the grid\n",
    "init_image = Image.open(init_image_path)\n",
    "\n",
    "# Get mask and clear image\n",
    "mask_image, clear_mask = inpainting.get_mask(init_image)\n",
    "\n",
    "# List of images to include in the grid (input, mask, inpainted)\n",
    "images_to_grid = [init_image, mask_image, inpainted_image]\n",
    "\n",
    "# Saving the image grid to /Images/Output\n",
    "inpainting.save_image_grid(images_to_grid, rows=1, cols=3, output_path=\"./Images/Output/image_grid.jpg\")\n",
    "\n",
    "print(\"Inpainting and image grid saved successfully.\")\n"
   ]
  },
  {
   "cell_type": "code",
   "execution_count": null,
   "id": "8c1c29cc-648b-481b-a948-40d654829b3d",
   "metadata": {},
   "outputs": [],
   "source": []
  }
 ],
 "metadata": {
  "kernelspec": {
   "display_name": "Python (clean-tf)",
   "language": "python",
   "name": "clean-tf"
  },
  "language_info": {
   "codemirror_mode": {
    "name": "ipython",
    "version": 3
   },
   "file_extension": ".py",
   "mimetype": "text/x-python",
   "name": "python",
   "nbconvert_exporter": "python",
   "pygments_lexer": "ipython3",
   "version": "3.10.14"
  }
 },
 "nbformat": 4,
 "nbformat_minor": 5
}
