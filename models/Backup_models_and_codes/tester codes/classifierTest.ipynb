{
 "cells": [
  {
   "cell_type": "code",
   "execution_count": 2,
   "id": "45753fdc-588f-40d7-8378-66f2dc07fdfa",
   "metadata": {},
   "outputs": [],
   "source": [
    "from model import PaintingDamageClassifier\n",
    "from PIL import Image"
   ]
  },
  {
   "cell_type": "code",
   "execution_count": 10,
   "id": "87df554b-4f0c-469f-967b-f14d030d99f5",
   "metadata": {},
   "outputs": [],
   "source": [
    "checkpoint_path = 'checkpoint.pth'\n",
    "image_path = 'Images/Input/3.jpg'"
   ]
  },
  {
   "cell_type": "code",
   "execution_count": 12,
   "id": "cafb817a-1ca4-4ef5-ad1e-015d76f94c10",
   "metadata": {},
   "outputs": [],
   "source": [
    "classifier = PaintingDamageClassifier(checkpoint_path)"
   ]
  },
  {
   "cell_type": "code",
   "execution_count": 14,
   "id": "59e7086b-9c09-4254-b55e-99f69a18a585",
   "metadata": {},
   "outputs": [
    {
     "name": "stdout",
     "output_type": "stream",
     "text": [
      "Predicted Class: Blur\n"
     ]
    }
   ],
   "source": [
    "result = classifier.classify(image_path)\n",
    "\n",
    "Image.open(image_path).show()\n",
    "print(f\"Predicted Class: {result}\")"
   ]
  },
  {
   "cell_type": "code",
   "execution_count": null,
   "id": "ae83710f-a29e-4db5-acb1-7541fa00b39f",
   "metadata": {},
   "outputs": [],
   "source": []
  }
 ],
 "metadata": {
  "kernelspec": {
   "display_name": "Python (clean-tf)",
   "language": "python",
   "name": "clean-tf"
  },
  "language_info": {
   "codemirror_mode": {
    "name": "ipython",
    "version": 3
   },
   "file_extension": ".py",
   "mimetype": "text/x-python",
   "name": "python",
   "nbconvert_exporter": "python",
   "pygments_lexer": "ipython3",
   "version": "3.10.14"
  }
 },
 "nbformat": 4,
 "nbformat_minor": 5
}
