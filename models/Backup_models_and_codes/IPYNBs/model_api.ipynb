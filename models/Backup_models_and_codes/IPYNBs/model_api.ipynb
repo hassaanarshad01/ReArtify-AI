{
 "cells": [
  {
   "cell_type": "code",
   "execution_count": null,
   "id": "df5af98c-ae04-475e-9d23-91bbb9658098",
   "metadata": {},
   "outputs": [
    {
     "name": "stdout",
     "output_type": "stream",
     "text": [
      "device in __init:  cuda\n",
      "device for inpainter: cuda\n",
      "Loading model from: C:\\Users\\hassa\\Desktop\\Uni\\Finalized Models\\models\\inpainting\\./Stable_Diffusion_Inpaint_2\n"
     ]
    },
    {
     "data": {
      "application/vnd.jupyter.widget-view+json": {
       "model_id": "1cd963215daf4a9a95c00bf99094724f",
       "version_major": 2,
       "version_minor": 0
      },
      "text/plain": [
       "Loading pipeline components...:   0%|          | 0/6 [00:00<?, ?it/s]"
      ]
     },
     "metadata": {},
     "output_type": "display_data"
    },
    {
     "name": "stdout",
     "output_type": "stream",
     "text": [
      "models made\n",
      "main working\n",
      " * Serving Flask app '__main__'\n",
      " * Debug mode: off\n"
     ]
    },
    {
     "name": "stderr",
     "output_type": "stream",
     "text": [
      "WARNING: This is a development server. Do not use it in a production deployment. Use a production WSGI server instead.\n",
      " * Running on all addresses (0.0.0.0)\n",
      " * Running on http://127.0.0.1:5000\n",
      " * Running on http://192.168.100.196:5000\n",
      "Press CTRL+C to quit\n"
     ]
    },
    {
     "name": "stdout",
     "output_type": "stream",
     "text": [
      "Received inpaint request\n",
      "File received: 3.jpg\n",
      "Prompt: woman india\n"
     ]
    },
    {
     "data": {
      "application/vnd.jupyter.widget-view+json": {
       "model_id": "70e2e2e01b2d4edf91d76ae38cde1203",
       "version_major": 2,
       "version_minor": 0
      },
      "text/plain": [
       "  0%|          | 0/50 [00:00<?, ?it/s]"
      ]
     },
     "metadata": {},
     "output_type": "display_data"
    }
   ],
   "source": [
    "from flask import Flask, request, jsonify, send_file\n",
    "from flask_cors import CORS\n",
    "from models import ModelPackage\n",
    "import os\n",
    "from io import BytesIO\n",
    "\n",
    "app = Flask(__name__)\n",
    "CORS(app) \n",
    "\n",
    "models = ModelPackage()\n",
    "print('models made')\n",
    "@app.route('/classify', methods=['POST'])\n",
    "def classify():\n",
    "    print('reached classify')\n",
    "    try:\n",
    "        if 'file' not in request.files:\n",
    "            return jsonify({\"error\": \"No file provided\"}), 400\n",
    "        \n",
    "        file = request.files['file']\n",
    "        image_path = os.path.join(\"temp\", file.filename)\n",
    "        print('path joined with: ', file.filename)\n",
    "        \n",
    "        print(f\"Saving file to: {image_path}\")\n",
    "        file.save(image_path)\n",
    "        \n",
    "        classification_result = models.classify(image_path)\n",
    "        return jsonify({\"classification\": classification_result})\n",
    "        \n",
    "    except Exception as e:\n",
    "        return jsonify({'error': str(e)}), 500\n",
    "        \n",
    "\n",
    "    \n",
    "\n",
    "@app.route('/predict', methods=['POST'])\n",
    "def predict():\n",
    "    if 'file' not in request.files or 'model_name' not in request.form:\n",
    "        return jsonify({\"error\": \"File or model name missing\"}), 400\n",
    "\n",
    "    file = request.files['file']\n",
    "    model_name = request.form['model_name']\n",
    "    image_path = os.path.join(\"temp/predicts\", \"input.jpg\")\n",
    "    file.save(image_path)\n",
    "\n",
    "    result = models.predict(image_path, model_name)\n",
    "\n",
    "    output_path = os.path.join(\"temp/predicts\", \"output.jpg\")\n",
    "    models.save_image(result, output_path)\n",
    "\n",
    "    return send_file(output_path, mimetype='image/jpeg')\n",
    "\n",
    "\n",
    "\n",
    "@app.route('/inpaint', methods=['POST'])\n",
    "def inpaint():\n",
    "    try:\n",
    "        print(\"Received inpaint request\")\n",
    "\n",
    "        if 'file' not in request.files or 'prompt' not in request.form:\n",
    "            print(\"File or prompt missing\")\n",
    "            return jsonify({\"error\": \"File or prompt missing\"}), 400\n",
    "\n",
    "        file = request.files['file']\n",
    "        prompt = request.form['prompt']\n",
    "        print(f\"File received: {file.filename}\")\n",
    "        print(f\"Prompt: {prompt}\")\n",
    "\n",
    "        image_path = os.path.join(\"temp/inpainting\", \"1 - inpaint_input.jpg\")\n",
    "        file.save(image_path)\n",
    "\n",
    "        inpainted_image, eroded_mask, clear_mask = models.inpaint_image(image_path, prompt)\n",
    "\n",
    "        output_path_clear_mask = os.path.join(\"temp/inpainting\", \"2 - clear_mask.jpg\")\n",
    "        clear_mask.save(output_path_clear_mask)\n",
    "        \n",
    "        output_path_eroded_mask = os.path.join(\"temp/inpainting\", \"3 - eroded_mask.jpg\")\n",
    "        eroded_mask.save(output_path_eroded_mask)\n",
    "        \n",
    "        output_path = os.path.join(\"temp/inpainting\", \"4 - inpaint_output.jpg\")\n",
    "        inpainted_image.save(output_path)\n",
    "        \n",
    "        img_io = BytesIO()\n",
    "        inpainted_image.save(img_io, 'JPEG')\n",
    "        img_io.seek(0)\n",
    "\n",
    "        print(\"Sending inpainted image response\")\n",
    "        return send_file(img_io, mimetype='image/jpeg')\n",
    "    \n",
    "    except Exception as e:\n",
    "        print(f\"Error: {e}\")\n",
    "        return jsonify({'error': str(e)}), 500\n",
    "\n",
    "if __name__ == '__main__':\n",
    "    print('main working')\n",
    "    os.makedirs(\"temp\", exist_ok=True) \n",
    "    app.run(host='0.0.0.0', port=5000)\n"
   ]
  },
  {
   "cell_type": "code",
   "execution_count": null,
   "id": "a08d6bc9-4e67-4353-a439-61eab606234a",
   "metadata": {},
   "outputs": [],
   "source": []
  }
 ],
 "metadata": {
  "kernelspec": {
   "display_name": "Python (clean-tf)",
   "language": "python",
   "name": "clean-tf"
  },
  "language_info": {
   "codemirror_mode": {
    "name": "ipython",
    "version": 3
   },
   "file_extension": ".py",
   "mimetype": "text/x-python",
   "name": "python",
   "nbconvert_exporter": "python",
   "pygments_lexer": "ipython3",
   "version": "3.10.14"
  }
 },
 "nbformat": 4,
 "nbformat_minor": 5
}
