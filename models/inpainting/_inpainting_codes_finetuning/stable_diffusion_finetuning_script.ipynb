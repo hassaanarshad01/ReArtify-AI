{
 "cells": [
  {
   "cell_type": "code",
   "execution_count": null,
   "id": "8a1a7ba5-e7c6-453f-b833-b15a78c96bf8",
   "metadata": {
    "id": "8a1a7ba5-e7c6-453f-b833-b15a78c96bf8"
   },
   "outputs": [],
   "source": [
    "!pip install -U diffusers transformers ftfy gradio accelerate"
   ]
  },
  {
   "cell_type": "code",
   "execution_count": null,
   "id": "01724268-0811-46a5-8a50-2017d70c59a2",
   "metadata": {
    "id": "01724268-0811-46a5-8a50-2017d70c59a2"
   },
   "outputs": [],
   "source": [
    "!pip install torch torchvision torchaudio --index-url https://download.pytorch.org/whl/cu121"
   ]
  },
  {
   "cell_type": "code",
   "execution_count": null,
   "id": "933e3880-bc8e-443d-9b75-4f4bf3d49b8e",
   "metadata": {
    "id": "933e3880-bc8e-443d-9b75-4f4bf3d49b8e"
   },
   "outputs": [],
   "source": [
    "import inspect\n",
    "from typing import List, Optional, Union\n",
    "import numpy as np\n",
    "import torch\n",
    "import os\n",
    "import PIL\n",
    "\n",
    "from diffusers import StableDiffusionInpaintPipeline\n",
    "import requests\n",
    "from io import BytesIO\n",
    "\n",
    "!wget https://raw.githubusercontent.com/huggingface/diffusers/main/examples/research_projects/dreambooth_inpaint/train_dreambooth_inpaint.py"
   ]
  },
  {
   "cell_type": "code",
   "execution_count": null,
   "id": "312f9ccc-dc12-4494-b84f-64e62de34466",
   "metadata": {},
   "outputs": [],
   "source": [
    "#enter your correct huggingface token\n",
    "from huggingface_hub import login\n",
    "login('<HuggingFace Token>', add_to_git_credential=True)"
   ]
  },
  {
   "cell_type": "code",
   "execution_count": null,
   "id": "6e5d7bc4-36bc-48d2-99c2-0f3857478b16",
   "metadata": {
    "id": "6e5d7bc4-36bc-48d2-99c2-0f3857478b16"
   },
   "outputs": [],
   "source": [
    "pipe = StableDiffusionInpaintPipeline.from_pretrained(\n",
    "    \"stabilityai/stable-diffusion-2-inpainting\",\n",
    "    torch_dtype=torch.float16 if torch.cuda.is_available() else torch.float32\n",
    ")\n",
    "pipe.enable_attention_slicing()\n",
    "\n",
    "# Move the pipeline to the correct device (GPU if available)\n",
    "device = \"cuda\" if torch.cuda.is_available() else \"cpu\"\n",
    "pipe = pipe.to(device)"
   ]
  },
  {
   "cell_type": "code",
   "execution_count": null,
   "id": "3b443e41-0c20-4958-993a-6a62c63d8852",
   "metadata": {
    "id": "3b443e41-0c20-4958-993a-6a62c63d8852"
   },
   "outputs": [],
   "source": [
    "!accelerate launch train_dreambooth_inpaint.py \\\n",
    "    --pretrained_model_name_or_path=\"stabilityai/stable-diffusion-2-inpainting\"  \\\n",
    "    --instance_data_dir=\"images/Images_jpg\" \\\n",
    "    --output_dir=\"stable-diffusion-inpainting-painting\" \\\n",
    "    --instance_prompt=\"old painting\" \\\n",
    "    --resolution=256 \\\n",
    "    --mixed_precision=\"fp16\" \\\n",
    "    --train_batch_size=1 \\\n",
    "    --learning_rate=5e-6 \\\n",
    "    --lr_scheduler=\"constant\" \\\n",
    "    --lr_warmup_steps=0 \\\n",
    "    --max_train_steps=500 \\\n",
    "    --gradient_accumulation_steps=2 \\\n",
    "    --gradient_checkpointing \\\n",
    "    --train_text_encoder \\\n",
    "    --seed=\"0\" \\\n",
    "    --push_to_hub"
   ]
  },
  {
   "cell_type": "code",
   "execution_count": null,
   "id": "4d8197e4-705c-4606-afd3-64b82ba44071",
   "metadata": {},
   "outputs": [],
   "source": []
  }
 ],
 "metadata": {
  "accelerator": "TPU",
  "colab": {
   "gpuType": "V28",
   "provenance": []
  },
  "kernelspec": {
   "display_name": "Python (clean-tf)",
   "language": "python",
   "name": "clean-tf"
  },
  "language_info": {
   "codemirror_mode": {
    "name": "ipython",
    "version": 3
   },
   "file_extension": ".py",
   "mimetype": "text/x-python",
   "name": "python",
   "nbconvert_exporter": "python",
   "pygments_lexer": "ipython3",
   "version": "3.10.14"
  }
 },
 "nbformat": 4,
 "nbformat_minor": 5
}
