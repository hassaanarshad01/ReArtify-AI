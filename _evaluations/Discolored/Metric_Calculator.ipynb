{
 "cells": [
  {
   "cell_type": "code",
   "execution_count": 4,
   "id": "9066703c-1e86-4d7d-af7e-13ec38818359",
   "metadata": {},
   "outputs": [],
   "source": [
    "import numpy as np\n",
    "from PIL import Image\n",
    "from scipy.linalg import sqrtm\n",
    "import tensorflow as tf\n",
    "from tensorflow.keras.applications import ResNet50\n",
    "from tensorflow.keras.applications.resnet50 import preprocess_input\n",
    "from skimage.metrics import peak_signal_noise_ratio as psnr, structural_similarity as ssim, mean_squared_error as mse\n",
    "from tensorflow.keras.applications.inception_v3 import preprocess_input\n",
    "import os"
   ]
  },
  {
   "cell_type": "code",
   "execution_count": 5,
   "id": "257818ac-ce2c-45b6-b4f9-513f39e0496a",
   "metadata": {},
   "outputs": [],
   "source": [
    "# Function to calculate FID score\n",
    "def calculate_fid(act1, act2):\n",
    "    \"\"\"\n",
    "    Calculate the Fréchet Inception Distance (FID) score between two sets of activations.\n",
    "    FID compares the distribution of features between the original and processed images.\n",
    "    \"\"\"\n",
    "    mu1, sigma1 = np.mean(act1, axis=0), np.cov(act1, rowvar=False)\n",
    "    mu2, sigma2 = np.mean(act2, axis=0), np.cov(act2, rowvar=False)\n",
    "    ssdiff = np.sum((mu1 - mu2) ** 2.0)\n",
    "    covmean = sqrtm(sigma1.dot(sigma2) + np.eye(sigma1.shape[0]) * 1e-6)\n",
    "    \n",
    "    if np.iscomplexobj(covmean):\n",
    "        covmean = covmean.real\n",
    "    \n",
    "    fid = ssdiff + np.trace(sigma1 + sigma2 - 2.0 * covmean)\n",
    "    return fid\n",
    "\n",
    "# Function to compute activations using a pre-trained ResNet50 model\n",
    "def get_activations(images, batch_size=32):\n",
    "    \"\"\"\n",
    "    Compute activations from a pre-trained ResNet50 model for a batch of images.\n",
    "    The activations are used for calculating FID score between original and processed images.\n",
    "    \"\"\"\n",
    "    model = ResNet50(include_top=False, pooling='avg', input_shape=(224, 224, 3))\n",
    "    activations = []\n",
    "    for i in range(0, len(images), batch_size):\n",
    "        batch = images[i:i + batch_size]\n",
    "        batch_resized = np.array([preprocess_input(np.array(Image.open(img).resize((224, 224)))) for img in batch])\n",
    "        activations.append(model.predict(batch_resized))\n",
    "    return np.concatenate(activations, axis=0)\n",
    "\n",
    "# Main function to calculate metrics\n",
    "def calculate_metrics(original_images, processed_images):\n",
    "    \"\"\"\n",
    "    Calculate and return the average PSNR, SSIM, MSE, and FID metrics for the original and processed images.\n",
    "    \"\"\"\n",
    "    if len(original_images) != len(processed_images):\n",
    "        raise ValueError(\"Original and processed image arrays must have the same length\")\n",
    "    \n",
    "    total_psnr, total_ssim, total_mse = 0, 0, 0\n",
    "    originals = [np.array(Image.open(img).convert(\"RGB\"), dtype=np.float32) / 255.0 for img in original_images]\n",
    "    processeds = [np.array(Image.open(img).convert(\"RGB\"), dtype=np.float32) / 255.0 for img in processed_images]\n",
    "    \n",
    "    for original, processed in zip(originals, processeds):\n",
    "        total_psnr += psnr(original, processed, data_range=1.0)\n",
    "        total_ssim += ssim(original, processed, multichannel=True, data_range=1.0, win_size=3)\n",
    "        total_mse += mse(original, processed)\n",
    "    \n",
    "    avg_psnr = total_psnr / len(original_images)\n",
    "    avg_ssim = total_ssim / len(original_images)\n",
    "    avg_mse = total_mse / len(original_images)\n",
    "    \n",
    "    orig_activations = get_activations(original_images)\n",
    "    proc_activations = get_activations(processed_images)\n",
    "    fid = calculate_fid(orig_activations, proc_activations)\n",
    "    \n",
    "    return {\n",
    "        \"Average PSNR\": avg_psnr,\n",
    "        \"Average SSIM\": avg_ssim,\n",
    "        \"Average MSE\": avg_mse,\n",
    "        \"FID\": fid\n",
    "    }\n"
   ]
  },
  {
   "cell_type": "code",
   "execution_count": 6,
   "id": "cb871e1a-933b-4415-bd45-942d685a3481",
   "metadata": {},
   "outputs": [
    {
     "name": "stdout",
     "output_type": "stream",
     "text": [
      "Original: 2592.jpg | Processed: 2592.png\n",
      "Original: 3.jpg | Processed: 3.png\n",
      "Original: 390.jpg | Processed: 390.png\n",
      "Original: 4302.jpg | Processed: 4302.png\n",
      "Original: 432.jpg | Processed: 432.png\n",
      "\u001b[1m1/1\u001b[0m \u001b[32m━━━━━━━━━━━━━━━━━━━━\u001b[0m\u001b[37m\u001b[0m \u001b[1m2s\u001b[0m 2s/step\n",
      "\u001b[1m1/1\u001b[0m \u001b[32m━━━━━━━━━━━━━━━━━━━━\u001b[0m\u001b[37m\u001b[0m \u001b[1m2s\u001b[0m 2s/step\n",
      "Average PSNR: 23.52597840175434\n",
      "Average SSIM: 0.7746514237761188\n",
      "Average MSE: 0.005432462173579779\n",
      "FID: 10.07135767267789\n"
     ]
    }
   ],
   "source": [
    "if __name__ == \"__main__\":\n",
    "    original_images = sorted([os.path.join(\"Original\", fname) for fname in os.listdir(\"Original\")])\n",
    "    processed_images = sorted([os.path.join(\"Result\", fname) for fname in os.listdir(\"Result\")])\n",
    "\n",
    "    for orig, proc in zip(original_images, processed_images):\n",
    "        print(f\"Original: {os.path.basename(orig)} | Processed: {os.path.basename(proc)}\")\n",
    "\n",
    "    results = calculate_metrics(original_images, processed_images)\n",
    "    for metric, value in results.items():\n",
    "        print(f\"{metric}: {value}\")"
   ]
  },
  {
   "cell_type": "code",
   "execution_count": null,
   "id": "d4f36911-9f46-47ac-8542-fd8b5a08d33d",
   "metadata": {},
   "outputs": [],
   "source": []
  }
 ],
 "metadata": {
  "kernelspec": {
   "display_name": "Python (clean-tf)",
   "language": "python",
   "name": "clean-tf"
  },
  "language_info": {
   "codemirror_mode": {
    "name": "ipython",
    "version": 3
   },
   "file_extension": ".py",
   "mimetype": "text/x-python",
   "name": "python",
   "nbconvert_exporter": "python",
   "pygments_lexer": "ipython3",
   "version": "3.10.14"
  }
 },
 "nbformat": 4,
 "nbformat_minor": 5
}
