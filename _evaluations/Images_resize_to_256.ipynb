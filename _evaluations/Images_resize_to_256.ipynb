{
 "cells": [
  {
   "cell_type": "code",
   "execution_count": 2,
   "id": "a36aa261-2845-4cea-9496-125660d1925d",
   "metadata": {},
   "outputs": [
    {
     "name": "stdout",
     "output_type": "stream",
     "text": [
      "Skipping non-image file: .ipynb_checkpoints\n",
      "Resized: 2592.jpg\n",
      "Resized: 3.jpg\n",
      "Resized: 390.jpg\n",
      "Resized: 4302.jpg\n",
      "Resized: 432.jpg\n",
      "Skipping non-image file: Images_resize_to_256.ipynb\n"
     ]
    }
   ],
   "source": [
    "import os\n",
    "from PIL import Image\n",
    "\n",
    "#simply put this file in the folder where you want to resize your images\n",
    "def resize_images(folder_path, target_size=(256, 256)):\n",
    "    if not os.path.exists(folder_path):\n",
    "        print(f\"Error: The folder '{folder_path}' does not exist.\")\n",
    "        return\n",
    "    \n",
    "    for filename in os.listdir(folder_path):\n",
    "        file_path = os.path.join(folder_path, filename)\n",
    "        if not filename.lower().endswith(('.png', '.jpg', '.jpeg', '.bmp', '.tiff', '.webp')):\n",
    "            print(f\"Skipping non-image file: {filename}\")\n",
    "            continue\n",
    "        if os.path.isdir(file_path):\n",
    "            print(f\"Skipping directory: {filename}\")\n",
    "            continue\n",
    "\n",
    "        try:\n",
    "            with Image.open(file_path) as img:\n",
    "                resized_img = img.resize(target_size, Image.Resampling.LANCZOS)\n",
    "                resized_img.save(file_path)\n",
    "            \n",
    "            print(f\"Resized: {filename}\")\n",
    "        except Exception as e:\n",
    "            print(f\"Error processing {filename}: {e}\")\n",
    "\n",
    "if __name__ == \"__main__\":\n",
    "    #replace 'your_folder_path' with the folder containing your images\n",
    "    folder_path = \"./\"\n",
    "    resize_images(folder_path)\n"
   ]
  },
  {
   "cell_type": "code",
   "execution_count": null,
   "id": "32c0c771-c1f7-4bc5-8723-a04b11565dd6",
   "metadata": {},
   "outputs": [],
   "source": []
  }
 ],
 "metadata": {
  "kernelspec": {
   "display_name": "Python 3 (ipykernel)",
   "language": "python",
   "name": "python3"
  },
  "language_info": {
   "codemirror_mode": {
    "name": "ipython",
    "version": 3
   },
   "file_extension": ".py",
   "mimetype": "text/x-python",
   "name": "python",
   "nbconvert_exporter": "python",
   "pygments_lexer": "ipython3",
   "version": "3.12.4"
  }
 },
 "nbformat": 4,
 "nbformat_minor": 5
}
